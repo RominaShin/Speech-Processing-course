{
  "nbformat": 4,
  "nbformat_minor": 0,
  "metadata": {
    "colab": {
      "name": "Speech Production.ipynb",
      "provenance": []
    },
    "kernelspec": {
      "name": "python3",
      "display_name": "Python 3"
    },
    "language_info": {
      "name": "python"
    }
  },
  "cells": [
    {
      "cell_type": "code",
      "execution_count": null,
      "metadata": {
        "id": "FN2NbESYPNhw"
      },
      "outputs": [],
      "source": [
        "import scipy.io.wavfile as wav\n",
        "import numpy as np\n",
        "from scipy.signal import lfilter\n",
        "import random\n",
        "import matplotlib.pyplot as plt\n"
      ]
    },
    {
      "cell_type": "markdown",
      "source": [
        "# Functions"
      ],
      "metadata": {
        "id": "07Z7d57nte4l"
      }
    },
    {
      "cell_type": "code",
      "source": [
        "def convm(x, p):\n",
        "  N = len(x)+2*p-2;\n",
        "  x = x[:]\n",
        "  xpad = np.array([[np.zeros(p-1, 1)],[x],[np.zeros(p-1,1)]])\n",
        "  for i in range(1,p):\n",
        "    X[:, i] = xpad[p-i+1:N-i+1]\n",
        "  return X\n"
      ],
      "metadata": {
        "id": "QugBW0QOQEcT"
      },
      "execution_count": null,
      "outputs": []
    },
    {
      "cell_type": "code",
      "source": [
        "def covar(x, p):\n",
        "  x = x[:]\n",
        "  m = len(x)\n",
        "  x = x - np.ones(m, 1) * (sum(x)/m)\n",
        "  R = convm(x, p).getH() * convm(x, p) / (m-1)\n",
        "  return R"
      ],
      "metadata": {
        "id": "AQ5aZYhVQ-xV"
      },
      "execution_count": null,
      "outputs": []
    },
    {
      "cell_type": "code",
      "source": [
        "def speechProduct(inputSignal, generator, p):\n",
        "  Rxp = covar(inputSignal, p+1)\n",
        "  Rx = Rxp[1:p, 1:p]\n",
        "  rx = Rx[2:, 1]\n",
        "  rx = [rx.getH(), Rxp[-1, 1]]\n",
        "  w = rx * np.linalg.inv(Rx)\n",
        "\n",
        "  G2 = Rx[1, 1] - sum(np.multiply( w , Rxp[1, 2:]))\n",
        "  G = np.sqrt(G2)\n",
        "\n",
        "  w = w * -1\n",
        "  ak = [1,w]\n",
        "  #% H_z = filter(G, ak, inputSignal) \n",
        "\n",
        "  outputSignal = lfilter(G, ak, generator)\n",
        "  return outputSignal\n",
        "  "
      ],
      "metadata": {
        "id": "05NI2BKIQ_GU"
      },
      "execution_count": null,
      "outputs": []
    },
    {
      "cell_type": "code",
      "source": [
        "def rect(T):\n",
        "    \"\"\"create a centered rectangular pulse of width $T\"\"\"\n",
        "    return lambda t: (-T/2 <= t) & (t < T/2)\n",
        "\n",
        "def pulse_train(t, at, shape):\n",
        "    \"\"\"create a train of pulses over $t at times $at and shape $shape\"\"\"\n",
        "    return np.sum(shape(t - at[:,np.newaxis]), axis=0)\n"
      ],
      "metadata": {
        "id": "0LH154CYhNg8"
      },
      "execution_count": null,
      "outputs": []
    },
    {
      "cell_type": "code",
      "source": [
        ""
      ],
      "metadata": {
        "id": "ch9g6RkRPbIx"
      },
      "execution_count": null,
      "outputs": []
    },
    {
      "cell_type": "markdown",
      "source": [
        "# Combine Signals"
      ],
      "metadata": {
        "id": "k2bY67kttXMH"
      }
    },
    {
      "cell_type": "code",
      "source": [
        "#Signal Sh\n",
        "[samplRate_1,inputSignal_1] = wav.read('Sh.wav')\n",
        "[m1, n1] = inputSignal_1.shape[0],inputSignal_1.shape[1]\n",
        "t1 = np.linspace(0,1,m1-1)\n",
        "d1 = np.linspace(0,1,m1-1)\n",
        "# out1 = speechProduct(inputSignal_1, pulse_train(t1, d1, 'tripuls', 0.1, 0), 1000);\n",
        "out1 = speechProduct(inputSignal_1, pulse_train(t1, d1,  rect(0.1)   ), 1000)\n",
        "\n",
        "#Signal I\n",
        "[inputSignal_2, samplRate_2] = wav.read('I.wav')\n",
        "[m2, n2] = inputSignal_2.shape[0],inputSignal_2.shape[1]\n",
        "out2 = speechProduct(inputSignal_2, np.random.randn(1, m2), 300)\n",
        "\n",
        "#Signal R\n",
        "[inputSignal_3, samplRate_3] = wav.read('R.wav')\n",
        "[m3, n3] = inputSignal_3.shape[0],inputSignal_3.shape[1]\n",
        "out3 = speechProduct(inputSignal_3, np.random.randn(1, m2), 300)\n",
        "\n",
        "#Signal I\n",
        "[inputSignal_4, samplRate_4] = wav.read('I.wav')\n",
        "[m4, n4] = inputSignal_4.shape[0],inputSignal_4.shape[1]\n",
        "t4 = np.linspace(0,1,m4-1)\n",
        "d4 = np.linspace(0,1,m4-1)\n",
        "out4 = speechProduct(inputSignal_4, pulse_train(t4, d4,  rect(0.1) ), 1000)\n",
        "\n",
        "#all Signal\n",
        "out = np.zeros(1, m1+m2+m3+m4)\n",
        "out[1 : m1] = out1\n",
        "out[m1+1 : m1+m2] = out2\n",
        "out[m1+m2+1 : m1+m2+m3 ] = out3\n",
        "out[m1+m2+m3+1 : m1+m2+m3+m4] = out4\n",
        "plt.figure()\n",
        "plt.plot(out)\n",
        "wav.write('shiri.wav',sound(out, samplRate_1))\n",
        "\n"
      ],
      "metadata": {
        "id": "WalIME2kYjHW"
      },
      "execution_count": null,
      "outputs": []
    },
    {
      "cell_type": "code",
      "source": [
        ""
      ],
      "metadata": {
        "id": "gaGQ953jiyrt"
      },
      "execution_count": null,
      "outputs": []
    },
    {
      "cell_type": "code",
      "source": [
        ""
      ],
      "metadata": {
        "id": "-Yp1pUDfpXjx"
      },
      "execution_count": null,
      "outputs": []
    }
  ]
}